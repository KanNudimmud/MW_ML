{
  "nbformat": 4,
  "nbformat_minor": 0,
  "metadata": {
    "colab": {
      "name": "Naive Bayes_Email Classifier.ipynb",
      "provenance": []
    },
    "kernelspec": {
      "name": "python3",
      "display_name": "Python 3"
    },
    "language_info": {
      "name": "python"
    }
  },
  "cells": [
    {
      "cell_type": "code",
      "source": [
        "# Clone github for this mini project which is presented an Udacity course\n",
        "!git clone https://github.com/udacity/ud120-projects"
      ],
      "metadata": {
        "colab": {
          "base_uri": "https://localhost:8080/"
        },
        "id": "jEWDa8rX1VaP",
        "outputId": "ac46c612-ffd1-418c-b21d-cdcaded98cf1"
      },
      "execution_count": 1,
      "outputs": [
        {
          "output_type": "stream",
          "name": "stdout",
          "text": [
            "Cloning into 'ud120-projects'...\n",
            "remote: Enumerating objects: 5173, done.\u001b[K\n",
            "remote: Counting objects: 100% (94/94), done.\u001b[K\n",
            "remote: Compressing objects: 100% (51/51), done.\u001b[K\n",
            "remote: Total 5173 (delta 38), reused 72 (delta 31), pack-reused 5079\u001b[K\n",
            "Receiving objects: 100% (5173/5173), 19.67 MiB | 21.52 MiB/s, done.\n",
            "Resolving deltas: 100% (4432/4432), done.\n"
          ]
        }
      ]
    },
    {
      "cell_type": "code",
      "source": [
        "import joblib\n",
        "import numpy\n",
        "\n",
        "from sklearn.model_selection import train_test_split\n",
        "from sklearn.feature_extraction.text import TfidfVectorizer\n",
        "from sklearn.feature_selection import SelectPercentile, f_classif\n",
        "\n",
        "def preprocess(words_file = \"ud120-projects/tools/word_data.pkl\", authors_file=\"ud120-projects/tools/email_authors.pkl\"):\n",
        "    \"\"\" \n",
        "        this function takes a pre-made list of email texts (by default word_data.pkl)\n",
        "        and the corresponding authors (by default email_authors.pkl) and performs\n",
        "        a number of preprocessing steps:\n",
        "            -- splits into training/testing sets (10% testing)\n",
        "            -- vectorizes into tfidf matrix\n",
        "            -- selects/keeps most helpful features\n",
        "\n",
        "        after this, the feaures and labels are put into numpy arrays, which play nice with sklearn functions\n",
        "\n",
        "        4 objects are returned:\n",
        "            -- training/testing features\n",
        "            -- training/testing labels\n",
        "\n",
        "    \"\"\"\n",
        "\n",
        "    ### the words (features) and authors (labels), already largely preprocessed\n",
        "    ### this preprocessing will be repeated in the text learning mini-project\n",
        "    authors_file_handler = open(authors_file, \"rb\")\n",
        "    authors = joblib.load(authors_file_handler)\n",
        "\n",
        "\n",
        "    words_file_handler = open(words_file, \"rb\")\n",
        "    word_data = joblib.load(words_file_handler)\n",
        "\n",
        "    ### test_size is the percentage of events assigned to the test set\n",
        "    ### (remainder go into training)\n",
        "    features_train, features_test, labels_train, labels_test = train_test_split(word_data, authors, test_size=0.1, random_state=42)\n",
        "\n",
        "    ### text vectorization--go from strings to lists of numbers\n",
        "    vectorizer = TfidfVectorizer(sublinear_tf=True, max_df=0.5, stop_words='english')\n",
        "    features_train_transformed = vectorizer.fit_transform(features_train)\n",
        "    features_test_transformed  = vectorizer.transform(features_test)\n",
        "\n",
        "    ### feature selection, because text is super high dimensional and \n",
        "    ### can be really computationally chewy as a result\n",
        "    selector = SelectPercentile(f_classif, percentile=10)\n",
        "    selector.fit(features_train_transformed, labels_train)\n",
        "    features_train_transformed = selector.transform(features_train_transformed).toarray()\n",
        "    features_test_transformed  = selector.transform(features_test_transformed).toarray()\n",
        "\n",
        "    ### info on the data\n",
        "    print(\"No. of Chris training emails : \", sum(labels_train))\n",
        "    print(\"No. of Sara training emails : \", len(labels_train)-sum(labels_train))\n",
        "    \n",
        "    return features_train_transformed, features_test_transformed, labels_train, labels_test"
      ],
      "metadata": {
        "id": "56jlVx7l2h0m"
      },
      "execution_count": 7,
      "outputs": []
    },
    {
      "cell_type": "code",
      "source": [
        "\"\"\" \n",
        "    This is the code to accompany the Lesson 1 (Naive Bayes) mini-project. \n",
        "\n",
        "    Use a Naive Bayes Classifier to identify emails by their authors\n",
        "    \n",
        "    authors and labels:\n",
        "    Sara has label 0\n",
        "    Chris has label 1\n",
        "\"\"\"\n",
        "    \n",
        "import sys\n",
        "from time import time\n",
        "sys.path.append(\"../tools/\")\n",
        "\n",
        "### features_train and features_test are the features for the training\n",
        "### and testing datasets, respectively\n",
        "### labels_train and labels_test are the corresponding item labels\n",
        "features_train, features_test, labels_train, labels_test = preprocess()\n",
        "\n",
        "\n",
        "##############################################################\n",
        "# Enter Your Code Here\n",
        "from sklearn.naive_bayes import GaussianNB\n",
        "t0 = time()\n",
        "clf = GaussianNB()\n",
        "clf.fit(features_train, labels_train)\n",
        "print(\"Training Time:\", round(time()-t0, 3), \"s\")\n",
        "\n",
        "t1 = time()\n",
        "pred = clf.predict(features_test)\n",
        "print(\"Prediction Time:\", round(time()-t1, 3), \"s\")\n",
        "\n",
        "accuracy = clf.score(features_test, labels_test)\n",
        "\n",
        "print(accuracy)\n",
        "\n",
        "##############################################################\n",
        "\n",
        "##############################################################\n",
        "'''\n",
        "You Will be Required to record time for Training and Predicting \n",
        "'''\n",
        "\n",
        "# t0 = time()\n",
        "# # < your clf.fit() line of code >\n",
        "# print(\"Training Time:\", round(time()-t0, 3), \"s\")\n",
        "\n",
        "# t0 = time()\n",
        "# # < your clf.predict() line of code >\n",
        "# print(\"Predicting Time:\", round(time()-t0, 3), \"s\")\n",
        "\n",
        "##############################################################"
      ],
      "metadata": {
        "colab": {
          "base_uri": "https://localhost:8080/",
          "height": 122
        },
        "id": "Cc8BGNFL1eNt",
        "outputId": "f910bd07-f8a7-483c-b4af-6cb98677099d"
      },
      "execution_count": 10,
      "outputs": [
        {
          "output_type": "stream",
          "name": "stdout",
          "text": [
            "No. of Chris training emails :  7936\n",
            "No. of Sara training emails :  7884\n",
            "Training Time: 0.788 s\n",
            "Prediction Time: 0.107 s\n",
            "0.9732650739476678\n"
          ]
        },
        {
          "output_type": "execute_result",
          "data": {
            "text/plain": [
              "'\\nYou Will be Required to record time for Training and Predicting \\n'"
            ],
            "application/vnd.google.colaboratory.intrinsic+json": {
              "type": "string"
            }
          },
          "metadata": {},
          "execution_count": 10
        }
      ]
    }
  ]
}