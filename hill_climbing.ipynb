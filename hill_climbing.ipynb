{
  "nbformat": 4,
  "nbformat_minor": 0,
  "metadata": {
    "colab": {
      "name": "hill_climbing.ipynb",
      "provenance": []
    },
    "kernelspec": {
      "name": "python3",
      "display_name": "Python 3"
    },
    "language_info": {
      "name": "python"
    }
  },
  "cells": [
    {
      "cell_type": "code",
      "execution_count": 28,
      "metadata": {
        "id": "U0yCW_cer_rX"
      },
      "outputs": [],
      "source": [
        "# Travelling Salesman problem\n",
        "# Assume you have 4 cities, and 400 m between 0 and 1, \n",
        "# 300 m between 0 and 3, 300 m between 1 and 2,\n",
        "# 400 m between 3 and 2, 500 m between 0 and 2\n",
        "# you must visit all the cities and only once. Find a shortest path\n",
        "\n",
        "import random"
      ]
    },
    {
      "cell_type": "code",
      "source": [
        "def randomSolution(tsp):\n",
        "  # Create a list of cities\n",
        "  cities = list(range(len(tsp)))\n",
        "  solution = []\n",
        "\n",
        "  for i in range(len(tsp)):\n",
        "    randomCity = cities[random.randint(0,len(cities)-1)]\n",
        "    solution.append(randomCity)\n",
        "    cities.remove(randomCity) # to hinder visiting again\n",
        "\n",
        "  return solution"
      ],
      "metadata": {
        "id": "o8hp-7GusCL8"
      },
      "execution_count": 29,
      "outputs": []
    },
    {
      "cell_type": "code",
      "source": [
        "def routeLength(tsp,solution):\n",
        "  routeLength = 0\n",
        "  for i in range(len(solution)):\n",
        "    routeLength += tsp[solution[i-1]][solution[i]]\n",
        "  return routeLength"
      ],
      "metadata": {
        "id": "PmP6gHimwzVY"
      },
      "execution_count": 30,
      "outputs": []
    },
    {
      "cell_type": "code",
      "source": [
        "def getNeighbors(solution):\n",
        "  neighbors = []\n",
        "  for i in range(len(solution)):\n",
        "    for j in range(i+1, len(solution)):\n",
        "      neighbor    = solution.copy()\n",
        "      neighbor[i] = solution[j]\n",
        "      neighbor[j] = solution[i]\n",
        "      neighbors.append(neighbor)\n",
        "  return neighbors"
      ],
      "metadata": {
        "id": "CinHFzwgzB8R"
      },
      "execution_count": 31,
      "outputs": []
    },
    {
      "cell_type": "code",
      "source": [
        "def getBestNeighbor(tsp,neighbors):\n",
        "  bestRouteLength = routeLength(tsp, neighbors[0])\n",
        "  bestNeighbor = neighbors[0]\n",
        "  for neighbor in neighbors:\n",
        "    currentRouteLength = routeLength(tsp, neighbor)\n",
        "    if currentRouteLength < bestRouteLength:\n",
        "      bestRouteLength = currentRouteLength\n",
        "      getBestNeighbor = neighbor\n",
        "  return bestNeighbor, bestRouteLength"
      ],
      "metadata": {
        "id": "mmiXS7-X13r_"
      },
      "execution_count": 32,
      "outputs": []
    },
    {
      "cell_type": "code",
      "source": [
        "def hillclimbing(tsp):\n",
        "  currentSolution    = randomSolution(tsp)\n",
        "  currentRouteLength = routeLength(tsp,currentSolution)\n",
        "  neighbors          = getNeighbors(currentSolution)\n",
        "\n",
        "  bestNeighbor, bestNeighborRouteLength = getBestNeighbor(tsp,neighbors)\n",
        "\n",
        "  while bestNeighborRouteLength < currentRouteLength:\n",
        "    currenSolution     = bestNeighbor\n",
        "    currentRouteLength = bestNeighborRouteLength\n",
        "    neighbors          = getNeighbors(currentSolution)\n",
        "    bestNeighbor, bestNeighborRouteLength = getBestNeighbor(tsp,neighbors)\n",
        "\n",
        "  return currentSolution, currentRouteLength"
      ],
      "metadata": {
        "id": "4XAN-g5osCO8"
      },
      "execution_count": 33,
      "outputs": []
    },
    {
      "cell_type": "code",
      "source": [
        "def main():\n",
        "  # Create matrix for distances between routes\n",
        "  tsp = [[0,400,500,300],\n",
        "         [400,0,300,500],\n",
        "         [500,300,0,400],\n",
        "         [300,500,400,0]\n",
        "         ]\n",
        "         \n",
        "  print(hillclimbing(tsp))"
      ],
      "metadata": {
        "id": "O9uKReyzsCQ4"
      },
      "execution_count": 34,
      "outputs": []
    },
    {
      "cell_type": "code",
      "source": [
        "if __name__ == \"__main__\":\n",
        "  main()"
      ],
      "metadata": {
        "colab": {
          "base_uri": "https://localhost:8080/"
        },
        "id": "IL0kXEeFsCTF",
        "outputId": "71bddcd0-42d9-4d8d-9162-7bb6277adfd5"
      },
      "execution_count": 41,
      "outputs": [
        {
          "output_type": "stream",
          "name": "stdout",
          "text": [
            "([1, 0, 3, 2], 1400)\n"
          ]
        }
      ]
    },
    {
      "cell_type": "code",
      "source": [
        ""
      ],
      "metadata": {
        "id": "keXtmTe3sCUz"
      },
      "execution_count": null,
      "outputs": []
    },
    {
      "cell_type": "code",
      "source": [
        ""
      ],
      "metadata": {
        "id": "jb_chsFzwcsI"
      },
      "execution_count": null,
      "outputs": []
    },
    {
      "cell_type": "code",
      "source": [
        ""
      ],
      "metadata": {
        "id": "tts086RuwcuT"
      },
      "execution_count": null,
      "outputs": []
    },
    {
      "cell_type": "code",
      "source": [
        ""
      ],
      "metadata": {
        "id": "DFgIHLt3wcwg"
      },
      "execution_count": null,
      "outputs": []
    }
  ]
}